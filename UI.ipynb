{
  "nbformat": 4,
  "nbformat_minor": 0,
  "metadata": {
    "colab": {
      "name": "streamlit.ipynb",
      "provenance": [],
      "collapsed_sections": []
    },
    "kernelspec": {
      "name": "python3",
      "display_name": "Python 3"
    },
    "language_info": {
      "name": "python"
    }
  },
  "cells": [
    {
      "cell_type": "code",
      "execution_count": 10,
      "metadata": {
        "id": "m6Q0B1NmYnE_",
        "colab": {
          "base_uri": "https://localhost:8080/"
        },
        "outputId": "d66b09e1-43f0-4334-fdba-a6d0d1a16753"
      },
      "outputs": [
        {
          "output_type": "stream",
          "name": "stdout",
          "text": [
            "Requirement already satisfied: streamlit in /usr/local/lib/python3.7/dist-packages (1.3.1)\n",
            "Requirement already satisfied: altair>=3.2.0 in /usr/local/lib/python3.7/dist-packages (from streamlit) (4.1.0)\n",
            "Requirement already satisfied: pillow>=6.2.0 in /usr/local/lib/python3.7/dist-packages (from streamlit) (7.1.2)\n",
            "Requirement already satisfied: attrs in /usr/local/lib/python3.7/dist-packages (from streamlit) (21.2.0)\n",
            "Requirement already satisfied: click<8.0,>=7.0 in /usr/local/lib/python3.7/dist-packages (from streamlit) (7.1.2)\n",
            "Requirement already satisfied: python-dateutil in /usr/local/lib/python3.7/dist-packages (from streamlit) (2.8.2)\n",
            "Requirement already satisfied: watchdog in /usr/local/lib/python3.7/dist-packages (from streamlit) (2.1.6)\n",
            "Requirement already satisfied: cachetools>=4.0 in /usr/local/lib/python3.7/dist-packages (from streamlit) (4.2.4)\n",
            "Requirement already satisfied: pyarrow in /usr/local/lib/python3.7/dist-packages (from streamlit) (3.0.0)\n",
            "Requirement already satisfied: pympler>=0.9 in /usr/local/lib/python3.7/dist-packages (from streamlit) (1.0.1)\n",
            "Requirement already satisfied: gitpython!=3.1.19 in /usr/local/lib/python3.7/dist-packages (from streamlit) (3.1.24)\n",
            "Requirement already satisfied: blinker in /usr/local/lib/python3.7/dist-packages (from streamlit) (1.4)\n",
            "Requirement already satisfied: astor in /usr/local/lib/python3.7/dist-packages (from streamlit) (0.8.1)\n",
            "Requirement already satisfied: base58 in /usr/local/lib/python3.7/dist-packages (from streamlit) (2.1.1)\n",
            "Requirement already satisfied: pydeck>=0.1.dev5 in /usr/local/lib/python3.7/dist-packages (from streamlit) (0.7.1)\n",
            "Requirement already satisfied: tornado>=5.0 in /usr/local/lib/python3.7/dist-packages (from streamlit) (5.1.1)\n",
            "Requirement already satisfied: protobuf!=3.11,>=3.6.0 in /usr/local/lib/python3.7/dist-packages (from streamlit) (3.17.3)\n",
            "Requirement already satisfied: packaging in /usr/local/lib/python3.7/dist-packages (from streamlit) (21.3)\n",
            "Requirement already satisfied: validators in /usr/local/lib/python3.7/dist-packages (from streamlit) (0.18.2)\n",
            "Requirement already satisfied: requests in /usr/local/lib/python3.7/dist-packages (from streamlit) (2.23.0)\n",
            "Requirement already satisfied: pandas>=0.21.0 in /usr/local/lib/python3.7/dist-packages (from streamlit) (1.1.5)\n",
            "Requirement already satisfied: toml in /usr/local/lib/python3.7/dist-packages (from streamlit) (0.10.2)\n",
            "Requirement already satisfied: tzlocal in /usr/local/lib/python3.7/dist-packages (from streamlit) (1.5.1)\n",
            "Requirement already satisfied: numpy in /usr/local/lib/python3.7/dist-packages (from streamlit) (1.19.5)\n",
            "Requirement already satisfied: jsonschema in /usr/local/lib/python3.7/dist-packages (from altair>=3.2.0->streamlit) (2.6.0)\n",
            "Requirement already satisfied: jinja2 in /usr/local/lib/python3.7/dist-packages (from altair>=3.2.0->streamlit) (2.11.3)\n",
            "Requirement already satisfied: toolz in /usr/local/lib/python3.7/dist-packages (from altair>=3.2.0->streamlit) (0.11.2)\n",
            "Requirement already satisfied: entrypoints in /usr/local/lib/python3.7/dist-packages (from altair>=3.2.0->streamlit) (0.3)\n",
            "Requirement already satisfied: typing-extensions>=3.7.4.3 in /usr/local/lib/python3.7/dist-packages (from gitpython!=3.1.19->streamlit) (3.10.0.2)\n",
            "Requirement already satisfied: gitdb<5,>=4.0.1 in /usr/local/lib/python3.7/dist-packages (from gitpython!=3.1.19->streamlit) (4.0.9)\n",
            "Requirement already satisfied: smmap<6,>=3.0.1 in /usr/local/lib/python3.7/dist-packages (from gitdb<5,>=4.0.1->gitpython!=3.1.19->streamlit) (5.0.0)\n",
            "Requirement already satisfied: pytz>=2017.2 in /usr/local/lib/python3.7/dist-packages (from pandas>=0.21.0->streamlit) (2018.9)\n",
            "Requirement already satisfied: six>=1.9 in /usr/local/lib/python3.7/dist-packages (from protobuf!=3.11,>=3.6.0->streamlit) (1.15.0)\n",
            "Requirement already satisfied: ipykernel>=5.1.2 in /usr/local/lib/python3.7/dist-packages (from pydeck>=0.1.dev5->streamlit) (6.6.0)\n",
            "Requirement already satisfied: ipywidgets>=7.0.0 in /usr/local/lib/python3.7/dist-packages (from pydeck>=0.1.dev5->streamlit) (7.6.5)\n",
            "Requirement already satisfied: traitlets>=4.3.2 in /usr/local/lib/python3.7/dist-packages (from pydeck>=0.1.dev5->streamlit) (5.1.1)\n",
            "Requirement already satisfied: ipython>=7.23.1 in /usr/local/lib/python3.7/dist-packages (from ipykernel>=5.1.2->pydeck>=0.1.dev5->streamlit) (7.30.1)\n",
            "Requirement already satisfied: importlib-metadata<5 in /usr/local/lib/python3.7/dist-packages (from ipykernel>=5.1.2->pydeck>=0.1.dev5->streamlit) (4.8.2)\n",
            "Requirement already satisfied: argcomplete>=1.12.3 in /usr/local/lib/python3.7/dist-packages (from ipykernel>=5.1.2->pydeck>=0.1.dev5->streamlit) (1.12.3)\n",
            "Requirement already satisfied: debugpy<2.0,>=1.0.0 in /usr/local/lib/python3.7/dist-packages (from ipykernel>=5.1.2->pydeck>=0.1.dev5->streamlit) (1.0.0)\n",
            "Requirement already satisfied: jupyter-client<8.0 in /usr/local/lib/python3.7/dist-packages (from ipykernel>=5.1.2->pydeck>=0.1.dev5->streamlit) (5.3.5)\n",
            "Requirement already satisfied: matplotlib-inline<0.2.0,>=0.1.0 in /usr/local/lib/python3.7/dist-packages (from ipykernel>=5.1.2->pydeck>=0.1.dev5->streamlit) (0.1.3)\n",
            "Requirement already satisfied: zipp>=0.5 in /usr/local/lib/python3.7/dist-packages (from importlib-metadata<5->ipykernel>=5.1.2->pydeck>=0.1.dev5->streamlit) (3.6.0)\n",
            "Requirement already satisfied: decorator in /usr/local/lib/python3.7/dist-packages (from ipython>=7.23.1->ipykernel>=5.1.2->pydeck>=0.1.dev5->streamlit) (4.4.2)\n",
            "Requirement already satisfied: jedi>=0.16 in /usr/local/lib/python3.7/dist-packages (from ipython>=7.23.1->ipykernel>=5.1.2->pydeck>=0.1.dev5->streamlit) (0.18.1)\n",
            "Requirement already satisfied: backcall in /usr/local/lib/python3.7/dist-packages (from ipython>=7.23.1->ipykernel>=5.1.2->pydeck>=0.1.dev5->streamlit) (0.2.0)\n",
            "Requirement already satisfied: pygments in /usr/local/lib/python3.7/dist-packages (from ipython>=7.23.1->ipykernel>=5.1.2->pydeck>=0.1.dev5->streamlit) (2.6.1)\n",
            "Requirement already satisfied: prompt-toolkit!=3.0.0,!=3.0.1,<3.1.0,>=2.0.0 in /usr/local/lib/python3.7/dist-packages (from ipython>=7.23.1->ipykernel>=5.1.2->pydeck>=0.1.dev5->streamlit) (3.0.24)\n",
            "Requirement already satisfied: setuptools>=18.5 in /usr/local/lib/python3.7/dist-packages (from ipython>=7.23.1->ipykernel>=5.1.2->pydeck>=0.1.dev5->streamlit) (57.4.0)\n",
            "Requirement already satisfied: pickleshare in /usr/local/lib/python3.7/dist-packages (from ipython>=7.23.1->ipykernel>=5.1.2->pydeck>=0.1.dev5->streamlit) (0.7.5)\n",
            "Requirement already satisfied: pexpect>4.3 in /usr/local/lib/python3.7/dist-packages (from ipython>=7.23.1->ipykernel>=5.1.2->pydeck>=0.1.dev5->streamlit) (4.8.0)\n",
            "Requirement already satisfied: ipython-genutils~=0.2.0 in /usr/local/lib/python3.7/dist-packages (from ipywidgets>=7.0.0->pydeck>=0.1.dev5->streamlit) (0.2.0)\n",
            "Requirement already satisfied: jupyterlab-widgets>=1.0.0 in /usr/local/lib/python3.7/dist-packages (from ipywidgets>=7.0.0->pydeck>=0.1.dev5->streamlit) (1.0.2)\n",
            "Requirement already satisfied: nbformat>=4.2.0 in /usr/local/lib/python3.7/dist-packages (from ipywidgets>=7.0.0->pydeck>=0.1.dev5->streamlit) (5.1.3)\n",
            "Requirement already satisfied: widgetsnbextension~=3.5.0 in /usr/local/lib/python3.7/dist-packages (from ipywidgets>=7.0.0->pydeck>=0.1.dev5->streamlit) (3.5.2)\n",
            "Requirement already satisfied: parso<0.9.0,>=0.8.0 in /usr/local/lib/python3.7/dist-packages (from jedi>=0.16->ipython>=7.23.1->ipykernel>=5.1.2->pydeck>=0.1.dev5->streamlit) (0.8.3)\n",
            "Requirement already satisfied: MarkupSafe>=0.23 in /usr/local/lib/python3.7/dist-packages (from jinja2->altair>=3.2.0->streamlit) (2.0.1)\n",
            "Requirement already satisfied: pyzmq>=13 in /usr/local/lib/python3.7/dist-packages (from jupyter-client<8.0->ipykernel>=5.1.2->pydeck>=0.1.dev5->streamlit) (22.3.0)\n",
            "Requirement already satisfied: jupyter-core>=4.6.0 in /usr/local/lib/python3.7/dist-packages (from jupyter-client<8.0->ipykernel>=5.1.2->pydeck>=0.1.dev5->streamlit) (4.9.1)\n",
            "Requirement already satisfied: ptyprocess>=0.5 in /usr/local/lib/python3.7/dist-packages (from pexpect>4.3->ipython>=7.23.1->ipykernel>=5.1.2->pydeck>=0.1.dev5->streamlit) (0.7.0)\n",
            "Requirement already satisfied: wcwidth in /usr/local/lib/python3.7/dist-packages (from prompt-toolkit!=3.0.0,!=3.0.1,<3.1.0,>=2.0.0->ipython>=7.23.1->ipykernel>=5.1.2->pydeck>=0.1.dev5->streamlit) (0.2.5)\n",
            "Requirement already satisfied: notebook>=4.4.1 in /usr/local/lib/python3.7/dist-packages (from widgetsnbextension~=3.5.0->ipywidgets>=7.0.0->pydeck>=0.1.dev5->streamlit) (5.3.1)\n",
            "Requirement already satisfied: Send2Trash in /usr/local/lib/python3.7/dist-packages (from notebook>=4.4.1->widgetsnbextension~=3.5.0->ipywidgets>=7.0.0->pydeck>=0.1.dev5->streamlit) (1.8.0)\n",
            "Requirement already satisfied: terminado>=0.8.1 in /usr/local/lib/python3.7/dist-packages (from notebook>=4.4.1->widgetsnbextension~=3.5.0->ipywidgets>=7.0.0->pydeck>=0.1.dev5->streamlit) (0.12.1)\n",
            "Requirement already satisfied: nbconvert in /usr/local/lib/python3.7/dist-packages (from notebook>=4.4.1->widgetsnbextension~=3.5.0->ipywidgets>=7.0.0->pydeck>=0.1.dev5->streamlit) (5.6.1)\n",
            "Requirement already satisfied: pandocfilters>=1.4.1 in /usr/local/lib/python3.7/dist-packages (from nbconvert->notebook>=4.4.1->widgetsnbextension~=3.5.0->ipywidgets>=7.0.0->pydeck>=0.1.dev5->streamlit) (1.5.0)\n",
            "Requirement already satisfied: mistune<2,>=0.8.1 in /usr/local/lib/python3.7/dist-packages (from nbconvert->notebook>=4.4.1->widgetsnbextension~=3.5.0->ipywidgets>=7.0.0->pydeck>=0.1.dev5->streamlit) (0.8.4)\n",
            "Requirement already satisfied: testpath in /usr/local/lib/python3.7/dist-packages (from nbconvert->notebook>=4.4.1->widgetsnbextension~=3.5.0->ipywidgets>=7.0.0->pydeck>=0.1.dev5->streamlit) (0.5.0)\n",
            "Requirement already satisfied: defusedxml in /usr/local/lib/python3.7/dist-packages (from nbconvert->notebook>=4.4.1->widgetsnbextension~=3.5.0->ipywidgets>=7.0.0->pydeck>=0.1.dev5->streamlit) (0.7.1)\n",
            "Requirement already satisfied: bleach in /usr/local/lib/python3.7/dist-packages (from nbconvert->notebook>=4.4.1->widgetsnbextension~=3.5.0->ipywidgets>=7.0.0->pydeck>=0.1.dev5->streamlit) (4.1.0)\n",
            "Requirement already satisfied: webencodings in /usr/local/lib/python3.7/dist-packages (from bleach->nbconvert->notebook>=4.4.1->widgetsnbextension~=3.5.0->ipywidgets>=7.0.0->pydeck>=0.1.dev5->streamlit) (0.5.1)\n",
            "Requirement already satisfied: pyparsing!=3.0.5,>=2.0.2 in /usr/local/lib/python3.7/dist-packages (from packaging->streamlit) (3.0.6)\n",
            "Requirement already satisfied: chardet<4,>=3.0.2 in /usr/local/lib/python3.7/dist-packages (from requests->streamlit) (3.0.4)\n",
            "Requirement already satisfied: urllib3!=1.25.0,!=1.25.1,<1.26,>=1.21.1 in /usr/local/lib/python3.7/dist-packages (from requests->streamlit) (1.24.3)\n",
            "Requirement already satisfied: certifi>=2017.4.17 in /usr/local/lib/python3.7/dist-packages (from requests->streamlit) (2021.10.8)\n",
            "Requirement already satisfied: idna<3,>=2.5 in /usr/local/lib/python3.7/dist-packages (from requests->streamlit) (2.10)\n",
            "Requirement already satisfied: pyngrok in /usr/local/lib/python3.7/dist-packages (5.1.0)\n",
            "Requirement already satisfied: PyYAML in /usr/local/lib/python3.7/dist-packages (from pyngrok) (3.13)\n"
          ]
        }
      ],
      "source": [
        "!pip install streamlit\n",
        "!pip install pyngrok"
      ]
    },
    {
      "cell_type": "code",
      "source": [
        "from google.colab import drive\n",
        "drive.mount('/content/drive')\n",
        "!cp -r \"drive/My Drive/AWS_Streamlit/flydubai_logo\" \"flydubai_logo\""
      ],
      "metadata": {
        "id": "vw_OfuCIx2ED",
        "colab": {
          "base_uri": "https://localhost:8080/"
        },
        "outputId": "ce443650-ea4f-48e3-da2d-3bb9b378ba79"
      },
      "execution_count": 11,
      "outputs": [
        {
          "output_type": "stream",
          "name": "stdout",
          "text": [
            "Drive already mounted at /content/drive; to attempt to forcibly remount, call drive.mount(\"/content/drive\", force_remount=True).\n"
          ]
        }
      ]
    },
    {
      "cell_type": "code",
      "source": [
        "%%writefile ui.py\n",
        "import html\n",
        "import streamlit as st\n",
        "import streamlit.components.v1 as cmpnts\n",
        "from PIL import Image\n",
        "import pandas as pd\n",
        "\n",
        "if __name__ == '__main__':\n",
        "    st.set_page_config(layout=\"wide\")\n",
        "    col1, col3 = st.columns(2)\n",
        "    with col3:\n",
        "        st.write('')\n",
        "        img=Image.open('/content/flydubai_logo')\n",
        "        st.image(img,width=300)\n",
        "    with col1:\n",
        "        #use_column_width='always',\n",
        "        st.image('https://raw.githubusercontent.com/tarun243/Streamlit-commonToAllIndustry/master/Web_app/Logo_final.png',width=300)\n",
        "        # st.image('https://drive.google.com/file/d/1QdXHaDc9iKrgV9SkWBhryxyWSpAxQmKs/view?usp=sharing',width=500)\n",
        "\n",
        "    st.markdown(\"<h1 style='text-align: center; color: black; font-size:20px;'>AIR-TRAFFIC DEMAND FORECAST</h1>\", unsafe_allow_html=True)\n",
        "\n",
        "    st.markdown(\"<h1 style='text-align: center; color: blue; font-size:20px;'>Powered by AWS SageMaker and Streamlit</h1>\", unsafe_allow_html=True)\n",
        "\n",
        "    st.markdown(\"\"\"<style>a {\n",
        "        text-decoration: none;\n",
        "    }\n",
        "    </style>\"\"\", unsafe_allow_html=True)\n",
        "    m = st.markdown(\"\"\"\n",
        "    <style>\n",
        "    div.stButton > button:first-child {border: 1px solid; width: 55%;\n",
        "        background-color: rgb(47 236 106) ;\n",
        "    }\n",
        "    </style>\"\"\", unsafe_allow_html=True)\n",
        "\n",
        "    #for horizontal line\n",
        "    st.markdown(\"\"\"\n",
        "    <hr style=\"width:100%;height:3px;background-color:gray;border-width:10\">\n",
        "    \"\"\", unsafe_allow_html=True)\n",
        "\n",
        "    col2, col3,_ = st.columns([3,3,1])\n",
        "    with col2:\n",
        "        st.write('')\n",
        "        st.write('')\n",
        "        st.subheader(\"Target field\")\n",
        "        st.write('')\n",
        "        st.write('')\n",
        "        st.subheader(\"Forecasting period\")\n",
        "        st.write('')\n",
        "        st.write('')\n",
        "        st.subheader(\"Model selection\")\n",
        "        st.write('')\n",
        "        st.write('')\n",
        "        st.subheader(\"Upload file\")\n",
        "        st.write('')\n",
        "        st.write('')\n",
        "        # st.write('')\n",
        "        # st.write('')\n",
        "        # st.subheader(\"Hyper parameter tunning\")\n",
        "    uploaded_file = None\n",
        "    cols = ['Please upload data to avail fields']\n",
        "    with col3:\n",
        "        vAR_target = st.selectbox('',('Select the field', 'Booking', 'Revenue'),index=0)\n",
        "        vAR_period = st.selectbox('',('Select the forecast period', 'Rolling Forecast(6 months)', 'Annual Forecast(12 months)'),index=0)\n",
        "        vAR_model = st.selectbox('',('Select the model', 'ARIMA', 'DeepAR','Keras','Prophet'),index=0)\n",
        "        vAR_method = st.selectbox('',('Select the method', 'Local'),index=0)\n",
        "        if vAR_method == 'Local':\n",
        "          uploaded_file = st.file_uploader(\"Choose a file\")\n",
        "    \n",
        "    _, col2,_ = st.columns([1,7,2])\n",
        "    with col2:\n",
        "      if uploaded_file is not None:\n",
        "            df = pd.read_csv(uploaded_file)\n",
        "            cols = df.columns\n",
        "            with st.expander(\"DATA PREVIEW\"):\n",
        "              st.write(df)\n",
        "    \n",
        "    # For page breaks, The columns are reassigned\n",
        "    col2, col3,_ = st.columns([3,3,1])\n",
        "    with col3:\n",
        "            with col2:\n",
        "                  # st.write('')\n",
        "                  st.write('')\n",
        "                  st.write('')             \n",
        "                  st.subheader(\"Feature selection\")\n",
        "            vAR_features = st.multiselect('',cols)\n",
        "            # print(vAR_features)\n",
        "            # st.write(vAR_features)\n",
        "            with st.expander(\"List selected features\"):\n",
        "              for i in range(0,len(vAR_features)):\n",
        "                st.write('Feature',i+1,':',vAR_features[i])\n",
        "\n",
        "    col2, col3,_ = st.columns([3,3,1])\n",
        "    with col3:\n",
        "        if vAR_model != 'Select the model':\n",
        "          with col2:\n",
        "            st.write('')\n",
        "            st.write('')\n",
        "            st.subheader(\"Hyper parameter tunning\")\n",
        "        st.write('')\n",
        "        st.write('')\n",
        "        if vAR_model == 'ARIMA':\n",
        "          st.write('For Model ARIMA')\n",
        "          vAR_data = st.text_input('Difference')\n",
        "          vAR_data = st.text_input('Moving_verage')\n",
        "          vAR_data = st.text_input('Lag_bservations')\n",
        "        if vAR_model == 'Keras':\n",
        "          st.write('For Model Keras')\n",
        "          vAR_data = st.text_input('Epochs')\n",
        "          vAR_data = st.text_input('Learning_rate')\n",
        "          vAR_data = st.text_input('Dimension')\n",
        "        if vAR_model == 'DeepAR':\n",
        "          st.write('For Model DeepAR')\n",
        "          vAR_data = st.text_input('Context_length')\n",
        "          vAR_data = st.text_input('Epochs')\n",
        "          vAR_data = st.text_input('Learning_rate')\n",
        "          vAR_data = st.text_input('Epochs')\n",
        "          vAR_data = st.text_input('Dropout_rate')\n",
        "        if vAR_model == 'Prophet':\n",
        "          st.write('For Model Prophet')\n",
        "          vAR_data = st.text_input('Changepoints')\n",
        "          vAR_data = st.text_input('Changepoint_range')\n",
        "          vAR_data = st.text_input('Changepoint_prior_scale')\n",
        "          vAR_data = st.text_input('n_changepoints')\n",
        "\n",
        "        st.button(\"TRAIN MODEL\")\n",
        "\n",
        "\n",
        "    #4c85e4\n",
        "    st.markdown(\"\"\"<style>.css-1d391kg, .e1fqkh3o1{\n",
        "        background-color:rgb(82 142 237);\n",
        "        width: 19rem;\n",
        "    }\n",
        "    </style>\"\"\", unsafe_allow_html=True)\n",
        "\n",
        "    # st.markdown(\"\"\"<style>div.stButton > button:first-child\n",
        "    # {\n",
        "    #     # 47 236 106\n",
        "    #     background-color:rgb(52 231 128);  \n",
        "    #     top: 30px; \n",
        "    #     border: 1px solid; \n",
        "    #     padding: 10px;\n",
        "    #     border-radius:2px; \n",
        "    #     width: 100%; }\n",
        "    # </style>\"\"\", unsafe_allow_html=True)\n",
        "\n",
        "    st.markdown(\"\"\"<style>.button  \n",
        "    {\n",
        "        background-color:rgb(52 231 128);  \n",
        "        top: 40px; \n",
        "        border: 0px solid; \n",
        "        padding: 10px;\n",
        "        border-radius:3px;\n",
        "        width: 100%; }\n",
        "    </style>\"\"\", unsafe_allow_html=True)\n",
        "\n",
        "\n",
        "    #for clear/reset button\n",
        "    st.markdown(\"\"\"<style>p, ol, ul, dl {\n",
        "        margin: 10px 80px 1rem;\n",
        "        font-size: 1rem;\n",
        "        font-weight: 400;\n",
        "    }\n",
        "    </style>\"\"\", unsafe_allow_html=True)\n",
        "    side1,_ = st.sidebar.columns(2)\n",
        "    with side1:\n",
        "      st.sidebar.write('Menu')\n",
        "    choice1 =  st.sidebar.selectbox(\" \",('Home','Option 1','option 2', 'option 3'))\n",
        "    choice2 =  st.sidebar.selectbox(\" \",('Libraries used','Option 1','option 2', 'option 3'))\n",
        "    choice3 =  st.sidebar.selectbox(\" \",('Models implemented','Option 1','option 2', 'option 3'))\n",
        "    menu = [\"AWS services used\",\"Pipeline\",\"Data Wrangler\",\"Experiment and trial\",\"Inference Job\",\"Compilation Job\",\"Compilation Job\",\"End Points\"]\n",
        "    choice = st.sidebar.selectbox(\" \",menu)\n",
        "    #for clear/reset button\n",
        "    st.sidebar.write('')\n",
        "    st.sidebar.write('')\n",
        "    # button = st.sidebar.button(\"clear\")\n",
        "    href = f'<a style=\"color:black;\" href=\"\" class=\"button\">Clear/Reset</a>'\n",
        "    st.sidebar.markdown(href, unsafe_allow_html=True)\n"
      ],
      "metadata": {
        "colab": {
          "base_uri": "https://localhost:8080/"
        },
        "id": "JJ5xFOqEY5lI",
        "outputId": "a7fd96a5-545b-4d88-a2f9-8ec058719dc6"
      },
      "execution_count": 31,
      "outputs": [
        {
          "output_type": "stream",
          "name": "stdout",
          "text": [
            "Overwriting ui.py\n"
          ]
        }
      ]
    },
    {
      "cell_type": "code",
      "source": [
        "from pyngrok import ngrok\n",
        "ngrok.set_auth_token(\"22jOQJrD48XEtAdlkRfAbSYC90y_5knM6E9aTTGunjTYHjyrB\")\n",
        "public_url = ngrok.connect(port='80')\n",
        "public_url"
      ],
      "metadata": {
        "colab": {
          "base_uri": "https://localhost:8080/"
        },
        "id": "ogwfTNDGZBMz",
        "outputId": "5283a2cd-8e6c-41d5-e675-e1131513b114"
      },
      "execution_count": 30,
      "outputs": [
        {
          "output_type": "execute_result",
          "data": {
            "text/plain": [
              "<NgrokTunnel: \"http://0afa-35-231-127-76.ngrok.io\" -> \"http://localhost:80\">"
            ]
          },
          "metadata": {},
          "execution_count": 30
        }
      ]
    },
    {
      "cell_type": "code",
      "source": [
        "!streamlit run --server.port=80 ui.py >/dev/null"
      ],
      "metadata": {
        "id": "xBbP0tzKZDnV"
      },
      "execution_count": 27,
      "outputs": []
    },
    {
      "cell_type": "code",
      "source": [
        "!killall ngrok"
      ],
      "metadata": {
        "id": "y33qpJbDZYOC",
        "colab": {
          "base_uri": "https://localhost:8080/"
        },
        "outputId": "515d2241-ba94-4b4b-9242-b2c6c93f3b8f"
      },
      "execution_count": 29,
      "outputs": [
        {
          "output_type": "stream",
          "name": "stdout",
          "text": [
            "ngrok: no process found\n"
          ]
        }
      ]
    },
    {
      "cell_type": "code",
      "source": [
        ""
      ],
      "metadata": {
        "id": "y1P5m3VckxZP"
      },
      "execution_count": null,
      "outputs": []
    }
  ]
}